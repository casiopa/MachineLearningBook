{
 "cells": [
  {
   "cell_type": "markdown",
   "metadata": {},
   "source": [
    "\n",
    "## Tarea 2: Atari\n",
    "\n",
    "En grupos de tres estudiantes entrenen un agente que resuelva **uno** de los siguientes ambientes: \n",
    "- \"PongNoFrameskip-v4\" \n",
    "- \"BreakoutNoFrameskip-v4\" \n",
    "\n",
    "usando Deep-Q-Network con redes convolucionales para estimar la función Q\n",
    "\n",
    "En particular se pide lo siguiente:\n",
    "1. (10%) Describa brevemente el algoritmo DQN y sus parámetros \n",
    "1. (10%) En base al punto anterior describa brevemente y justifique el uso del algoritmo Double-DQN\n",
    "1. (20%) Investigue sobre el algoritmo Dueling DQN y descríbalo en detalle\n",
    "1. (60%) Implemente Dueling Double DQN y entrénelo para resolver el ambiente escogido\n",
    "    - Muestre gráficas de aprendizaje (recompensa, loss y promedio de función q)\n",
    "    - Muestre un video de agente en acción \n",
    "\n",
    "Recomendaciones\n",
    "- Utilize los wrappers de OpenAI para preprocesar el ambiente\n",
    "- Utilice gradient clipping y Huber loss\n",
    "- Guarde su mejor modelo cada cierto número de iteraciones como respaldo\n",
    "- Empieze a trabajar lo antes posible, el entrenamiento de estos modelos toma tiempo!\n",
    "- Puede revisar otras implementaciones (por ejemplo los baseline de OpenAI)\n",
    "- Cuide su salud, discutan el problema y la solución usando herramientas de teletrabajo (whereby.com, google talk, skype, slack)"
   ]
  },
  {
   "cell_type": "code",
   "execution_count": null,
   "metadata": {},
   "outputs": [],
   "source": [
    "%matplotlib notebook\n",
    "import gym \n",
    "import matplotlib.pyplot as plt\n",
    "from atari_wrappers import NoopResetEnv, FireResetEnv, EpisodicLifeEnv, WarpFrame, ClipRewardEnv, FrameStack, MaxAndSkipEnv\n",
    "\n",
    "def wrap_env(env, skip=4, k=4):\n",
    "    env = NoopResetEnv(env, noop_max=30)\n",
    "    env = MaxAndSkipEnv(env, skip=skip) # Descarta una cierta cantidad de cuadros, toma el máximo entre cuadros sucesivos y aplica la misma acción en todos los cuadros\n",
    "    env = EpisodicLifeEnv(env) # Perder una vida es equivalente a perder el episodio\n",
    "    env = FireResetEnv(env) # Hace un disparo al inicio (algunos juegos lo necesitan)\n",
    "    env = WarpFrame(env) # Crop, resize y conversión a escala de  grises\n",
    "    env = ClipRewardEnv(env) # La recompensa se corta en [-1, 1] (mejora la estabilidad)\n",
    "    env = FrameStack(env, k=k) # El ambiente entrega de a 4 frames    \n",
    "    return env\n",
    "\n",
    "env_name =\"BreakoutNoFrameskip-v4\"\n",
    "env = wrap_env(gym.make(env_name))\n",
    "env.reset()\n",
    "state, _, _, _ = env.step(2)\n",
    "\n",
    "fig, ax = plt.subplots(1, 4, figsize=(8, 2), tight_layout=True)\n",
    "for k in range(4):\n",
    "    ax[k].matshow(state.frame(k), cmap=plt.cm.Greys_r);\n",
    "    ax[k].axis('off')"
   ]
  },
  {
   "cell_type": "code",
   "execution_count": null,
   "metadata": {},
   "outputs": [],
   "source": []
  }
 ],
 "metadata": {
  "kernelspec": {
   "display_name": "Python 3",
   "language": "python",
   "name": "python3"
  },
  "language_info": {
   "codemirror_mode": {
    "name": "ipython",
    "version": 3
   },
   "file_extension": ".py",
   "mimetype": "text/x-python",
   "name": "python",
   "nbconvert_exporter": "python",
   "pygments_lexer": "ipython3",
   "version": "3.7.6"
  }
 },
 "nbformat": 4,
 "nbformat_minor": 4
}
